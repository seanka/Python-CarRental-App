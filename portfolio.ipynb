{
 "cells": [
  {
   "cell_type": "markdown",
   "metadata": {},
   "source": [
    "Attachment 1"
   ]
  },
  {
   "cell_type": "code",
   "execution_count": 36,
   "metadata": {},
   "outputs": [
    {
     "name": "stdout",
     "output_type": "stream",
     "text": [
      "unorderedList\t\t:: [1, 2, 3, 4, 5, 7, 10]\n",
      "orderedList\t\t:: None\n"
     ]
    }
   ],
   "source": [
    "unorderedList = [10, 5, 3, 4, 1, 2, 7]\n",
    "\n",
    "unorderedList.sort()\n",
    "\n",
    "print(f\"unorderedList\\t\\t:: {unorderedList}\")\n",
    "\n",
    "orderedList = unorderedList.sort()\n",
    "print(f\"orderedList\\t\\t:: {orderedList}\")"
   ]
  },
  {
   "cell_type": "code",
   "execution_count": 35,
   "metadata": {},
   "outputs": [
    {
     "name": "stdout",
     "output_type": "stream",
     "text": [
      "unorderedList\t\t:: [10, 5, 3, 4, 1, 2, 7]\n",
      "orderedList\t\t:: [1, 2, 3, 4, 5, 7, 10]\n"
     ]
    }
   ],
   "source": [
    "unorderedList = [10, 5, 3, 4, 1, 2, 7]\n",
    "\n",
    "sorted(unorderedList)\n",
    "\n",
    "print(f\"unorderedList\\t\\t:: {unorderedList}\")\n",
    "\n",
    "orderedList = sorted(unorderedList)\n",
    "print(f\"orderedList\\t\\t:: {orderedList}\")\n"
   ]
  },
  {
   "cell_type": "code",
   "execution_count": 41,
   "metadata": {},
   "outputs": [
    {
     "name": "stdout",
     "output_type": "stream",
     "text": [
      "<class 'set'>\n",
      "orderedList\t\t:: None\n"
     ]
    }
   ],
   "source": [
    "unorderedSet = set([10, 5, 3, 4, 1, 2, 7])\n",
    "\n",
    "# unorderedSet.sort()\n",
    "\n",
    "print(type(unorderedSet))\n",
    "\n",
    "# print(f\"unorderedList\\t\\t:: {unorderedSet}\")\n",
    "\n",
    "orderedList = unorderedList.sort()\n",
    "print(f\"orderedList\\t\\t:: {orderedList}\")"
   ]
  },
  {
   "cell_type": "code",
   "execution_count": null,
   "metadata": {},
   "outputs": [],
   "source": []
  }
 ],
 "metadata": {
  "kernelspec": {
   "display_name": "base",
   "language": "python",
   "name": "python3"
  },
  "language_info": {
   "codemirror_mode": {
    "name": "ipython",
    "version": 3
   },
   "file_extension": ".py",
   "mimetype": "text/x-python",
   "name": "python",
   "nbconvert_exporter": "python",
   "pygments_lexer": "ipython3",
   "version": "3.12.4"
  }
 },
 "nbformat": 4,
 "nbformat_minor": 2
}
